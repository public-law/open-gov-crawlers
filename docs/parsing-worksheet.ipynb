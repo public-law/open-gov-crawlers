{
 "cells": [
  {
   "cell_type": "code",
   "execution_count": 71,
   "metadata": {},
   "outputs": [
    {
     "name": "stdout",
     "output_type": "stream",
     "text": [
      "<p> Table of Contents\n",
      "</p>\n",
      "<p>1\n",
      "</p>\n"
     ]
    }
   ],
   "source": [
    "from bs4 import BeautifulSoup\n",
    "import re\n",
    "\n",
    "def is_toc_part_entry(tag) -> bool:\n",
    "    is_p = (tag.name == 'p')\n",
    "\n",
    "    return is_p and (re.compile(r\"^PART (\\d+)\\..+(\\d+)$\").search(str(tag.string)) is not None)\n",
    "\n",
    "\n",
    "def is_begin_of_toc(tag) -> bool:\n",
    "    is_p = (tag.name == 'p')\n",
    "    is_toc = str(tag.string).strip() == 'Table of Contents'\n",
    "\n",
    "    return is_p and is_toc\n",
    "\n",
    "\n",
    "def is_end_of_toc(tag) -> bool:\n",
    "    is_p = (tag.name == 'p')\n",
    "    is_1 = str(tag.string).strip() == '1'\n",
    "\n",
    "    return is_p and is_1\n",
    "\n",
    "\n",
    "# Parse the page.\n",
    "with open('Rome-Statute.html', 'r') as f:\n",
    "    soup = BeautifulSoup(f, 'html.parser')\n",
    "\n",
    "# Remove all pagination divs.\n",
    "for page_div in soup.find_all('div', class_='page'):\n",
    "    page_div.unwrap()\n",
    "\n",
    "\n",
    "toc_begin = soup.find('p', string=re.compile('^ *Table of Contents *$'))\n",
    "toc_end   = soup.find('p', string=re.compile('^ *1 *$'))\n",
    "\n",
    "print(toc_begin)\n",
    "print(toc_end)"
   ]
  },
  {
   "cell_type": "code",
   "execution_count": null,
   "metadata": {},
   "outputs": [],
   "source": []
  }
 ],
 "metadata": {
  "interpreter": {
   "hash": "3c179629dd22e53c806c1bf7d323df355eb8e73d0de9d77b37b5cfcc2a0c95ae"
  },
  "kernelspec": {
   "display_name": "Python 3.9.10 ('public-law-spiders-tM0wHEGN-py3.9')",
   "language": "python",
   "name": "python3"
  },
  "language_info": {
   "codemirror_mode": {
    "name": "ipython",
    "version": 3
   },
   "file_extension": ".py",
   "mimetype": "text/x-python",
   "name": "python",
   "nbconvert_exporter": "python",
   "pygments_lexer": "ipython3",
   "version": "3.9.10"
  },
  "orig_nbformat": 4
 },
 "nbformat": 4,
 "nbformat_minor": 2
}
